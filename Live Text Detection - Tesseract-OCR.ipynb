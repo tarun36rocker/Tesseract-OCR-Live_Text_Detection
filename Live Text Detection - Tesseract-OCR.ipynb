{
 "cells": [
  {
   "cell_type": "code",
   "execution_count": 1,
   "metadata": {},
   "outputs": [],
   "source": [
    "#Basic imports required for the code\n",
    "import cv2\n",
    "import pytesseract"
   ]
  },
  {
   "cell_type": "code",
   "execution_count": 2,
   "metadata": {},
   "outputs": [],
   "source": [
    "#Fetching the tesseract executable file\n",
    "pytesseract.pytesseract.tesseract_cmd = 'C:\\\\Program Files\\\\Tesseract-OCR\\\\tesseract.exe'"
   ]
  },
  {
   "cell_type": "code",
   "execution_count": 3,
   "metadata": {},
   "outputs": [],
   "source": [
    "#Realtime text detection from live webcam feed \n",
    "\n",
    "#Sets default capture setting to webcam\n",
    "cap = cv2.VideoCapture(0)\n",
    "\n",
    "#Function to detect the word from webcam feed\n",
    "def detect_text_word(img):\n",
    "    #gets dimensions from the frame\n",
    "    himg,wimg,_=img.shape\n",
    "    #gets the boxes surrounding the words from the frame\n",
    "    boxes = pytesseract.image_to_data(img)\n",
    "    for x,b in enumerate(boxes.splitlines()):\n",
    "        #used as the first line of data contains title which we don't need\n",
    "        if x!=0:\n",
    "            b=b.split()\n",
    "            if len(b)==12:\n",
    "                #gets the various dimensions of the boxes\n",
    "                x,y,w,h=int(b[6]),int(b[7]),int(b[8]),int(b[9])\n",
    "                #draws a rectangle/boxes over the frame denoting the presence of the words\n",
    "                cv2.rectangle(img,(x,y),(w+x,h+y),(0,0,255),1)\n",
    "                #adds the text of which word was read on the frame\n",
    "                cv2.putText(img,b[11],(x,y),cv2.FONT_HERSHEY_PLAIN,1,(50,50,255),1)\n",
    "    return img            \n",
    "\n",
    "while True: \n",
    "    #getting frames from webcam\n",
    "    ret, frame = cap.read(0)\n",
    "    #passing frames to the text detection function\n",
    "    frame = detect_text_word(frame)\n",
    "    #final outputting of the frame after passing thorugh the function with the results\n",
    "    cv2.imshow('Live Text Detector-Words', frame)\n",
    "    #waits for escape key to escape from floating window\n",
    "    c = cv2.waitKey(1) \n",
    "    if c == 27: \n",
    "        break    \n",
    "#releases the capture instance and closes the cv2 usage        \n",
    "cap.release() \n",
    "cv2.destroyAllWindows()"
   ]
  }
 ],
 "metadata": {
  "kernelspec": {
   "display_name": "Python 3",
   "language": "python",
   "name": "python3"
  },
  "language_info": {
   "codemirror_mode": {
    "name": "ipython",
    "version": 3
   },
   "file_extension": ".py",
   "mimetype": "text/x-python",
   "name": "python",
   "nbconvert_exporter": "python",
   "pygments_lexer": "ipython3",
   "version": "3.6.5"
  }
 },
 "nbformat": 4,
 "nbformat_minor": 2
}
